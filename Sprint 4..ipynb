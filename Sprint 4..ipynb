{
 "cells": [
  {
   "cell_type": "code",
   "execution_count": 1,
   "metadata": {},
   "outputs": [
    {
     "name": "stdout",
     "output_type": "stream",
     "text": [
      "Please start your calculations \n",
      "\n",
      "enter 'add' or 'sub' or 'div' or 'mult':add\n",
      "Enter num1: 5\n",
      "Enter num2: 5\n",
      "5 + 5 = 10 \n",
      "\n",
      "enter 'x': x\n",
      "Goodbyee!!!\n"
     ]
    }
   ],
   "source": [
    "#A simple calculator program\n",
    "\n",
    "def addition(a,b):\n",
    "    '''This fuction takes two\n",
    "    numbers and return their sum.'''\n",
    "    return a + b\n",
    "\n",
    "def subtract(a,b):\n",
    "    '''This function takes two\n",
    "    numbers and return their difference'''\n",
    "    return a - b\n",
    "\n",
    "def divide(a,b):\n",
    "    '''This function takes two \n",
    "    numbers and return their division'''\n",
    "    return a / b\n",
    "\n",
    "def multiply(a,b):\n",
    "    '''This function takes two\n",
    "    numbers and return their multiplication'''\n",
    "    return a * b\n",
    "\n",
    "print(\"Please start your calculations\", \"\\n\")\n",
    "user = input(\"Enter 'add' or 'sub' or 'div' or 'mult':\".lower())\n",
    "a = int(input(\"Enter num1: \"))\n",
    "b = int(input(\"Enter num2: \"))\n",
    "\n",
    "for choice in user:\n",
    "    if user == 'add':         #add stands for addition\n",
    "        print(a ,\"+\", b ,\"=\", addition(a,b),\"\\n\")\n",
    "        break\n",
    "        \n",
    "    elif user == 'sub':       #sub is subtracction\n",
    "        print(a ,\"-\", b ,\"=\", subtract(a,b),\"\\n\")\n",
    "        break\n",
    "    \n",
    "    elif user == 'div':       #div is division\n",
    "        print(a ,\"/\", b ,\"=\", divide(a,b),\"\\n\")\n",
    "        break\n",
    "        \n",
    "    elif user == 'mult':     #mult is multiplication\n",
    "        print(a ,\"*\", b ,\"=\", multiply(a,b),\"\\n\")\n",
    "        break\n",
    "        \n",
    "    else:\n",
    "        print(\"Oops...Please check your input again.\\n\")\n",
    "        break\n",
    "        \n",
    "user_quit = input(\"Enter 'x': \".lower())\n",
    "print(\"Goodbyee!!!\")\n",
    "quit()"
   ]
  },
  {
   "cell_type": "code",
   "execution_count": null,
   "metadata": {},
   "outputs": [],
   "source": []
  }
 ],
 "metadata": {
  "kernelspec": {
   "display_name": "Python 3",
   "language": "python",
   "name": "python3"
  },
  "language_info": {
   "codemirror_mode": {
    "name": "ipython",
    "version": 3
   },
   "file_extension": ".py",
   "mimetype": "text/x-python",
   "name": "python",
   "nbconvert_exporter": "python",
   "pygments_lexer": "ipython3",
   "version": "3.7.6"
  }
 },
 "nbformat": 4,
 "nbformat_minor": 4
}
